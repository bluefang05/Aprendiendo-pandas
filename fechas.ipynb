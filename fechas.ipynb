{
 "cells": [
  {
   "cell_type": "code",
   "metadata": {},
   "source": [
    "# Import libraries\n",
    "import pandas as pd\n",
    "import matplotlib.pyplot as plt\n"
   ]
  },
  {
   "cell_type": "code",
   "metadata": {},
   "source": [
    "# Load the dataset\n",
    "df = pd.read_csv('SP500_data.csv')\n"
   ]
  },
  {
   "cell_type": "code",
   "metadata": {},
   "source": [
    "# Convert the 'Date' column to datetime\n",
    "df['Date'] = pd.to_datetime(df['Date'])\n",
    "\n",
    "# Extract year from the 'Date' column\n",
    "df['Year'] = df['Date'].dt.year\n"
   ]
  },
  {
   "cell_type": "code",
   "metadata": {},
   "source": [
    "# Calculate descriptive statistics\n",
    "print(df.describe())\n"
   ]
  },
  {
   "cell_type": "code",
   "metadata": {},
   "source": [
    "# Filter data for a specific range of years\n",
    "start_year = 2000\n",
    "end_year = 2020\n",
    "filtered_df = df[(df['Year'] >= start_year) & (df['Year'] <= end_year)]\n"
   ]
  },
  {
   "cell_type": "code",
   "metadata": {},
   "source": [
    "# Calculate yearly average of the 'SP500' column\n",
    "average_yearly_SP500 = filtered_df.groupby('Year')['SP500'].mean()\n"
   ]
  },
  {
   "cell_type": "code",
   "metadata": {},
   "source": [
    "# Display the yearly average of the 'SP500' column\n",
    "print(average_yearly_SP500)\n"
   ]
  },
  {
   "cell_type": "code",
   "metadata": {},
   "source": [
    "# Visualize the SP500 trend over time\n",
    "plt.plot(filtered_df['Date'], filtered_df['SP500'])\n",
    "plt.xlabel('Date')\n",
    "plt.ylabel('SP500')\n",
    "plt.title('SP500 Trend (2000-2020)')\n",
    "plt.show()\n"
   ]
  },
  {
   "cell_type": "code",
   "metadata": {},
   "source": [
    "# Visualize the relationship between SP500 and Long Interest Rate\n",
    "plt.scatter(filtered_df['SP500'], filtered_df['Long Interest Rate'])\n",
    "plt.xlabel('SP500')\n",
    "plt.ylabel('Long Interest Rate')\n",
    "plt.title('SP500 vs. Long Interest Rate (2000-2020)')\n",
    "plt.show()"
   ]
  }
 ],
 "metadata": {
  "language_info": {
   "name": "python",
   "version": "3.8.5",
   "mimetype": "text/x-python",
   "codemirror_mode": {
    "name": "ipython",
    "version": 3
   },
   "pygments_lexer": "ipython3",
   "nbconvert_exporter": "python",
   "file_extension": ".py"
  },
  "kernelspec": {
   "name": "python3",
   "display_name": "Python 3",
"language": "python",
"path": "/usr/local/share/jupyter/kernels/python3"
},
"notebookname": "SP500_data_analysis"
}
}
